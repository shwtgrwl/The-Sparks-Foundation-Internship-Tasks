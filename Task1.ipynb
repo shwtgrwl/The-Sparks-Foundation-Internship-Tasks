{
  "nbformat": 4,
  "nbformat_minor": 0,
  "metadata": {
    "colab": {
      "name": "Task1.ipynb",
      "provenance": [],
      "collapsed_sections": []
    },
    "kernelspec": {
      "name": "python3",
      "display_name": "Python 3"
    }
  },
  "cells": [
    {
      "cell_type": "markdown",
      "metadata": {
        "id": "adV_w63UgNKE",
        "colab_type": "text"
      },
      "source": [
        ""
      ]
    },
    {
      "cell_type": "code",
      "metadata": {
        "id": "0IFoYBRbgySo",
        "colab_type": "code",
        "colab": {
          "base_uri": "https://localhost:8080/",
          "height": 153
        },
        "outputId": "29a8d21b-df51-4be4-bd1e-bac309991d0f"
      },
      "source": [
        "import pandas as pd\n",
        "import numpy as np\n",
        "import datetime\n",
        "from dateutil.relativedelta import relativedelta\n",
        "from datetime import date\n",
        " \n",
        " \n",
        "date1 = pd.Series(pd.date_range('2012-1-1 12:00:00', periods=7, freq='M'))\n",
        "date2 = pd.Series(pd.date_range('2013-3-11 21:45:00', periods=7, freq='W'))\n",
        "date3 = pd.Series(pd.date_range('2014-2-6 16:45:00', periods=7, freq='W'))\n",
        "df = pd.DataFrame(dict(Start_date = date1, Mid_date = date2, End_date = date3))\n",
        "print(df)"
      ],
      "execution_count": 47,
      "outputs": [
        {
          "output_type": "stream",
          "text": [
            "           Start_date            Mid_date            End_date\n",
            "0 2012-01-31 12:00:00 2013-03-17 21:45:00 2014-02-09 16:45:00\n",
            "1 2012-02-29 12:00:00 2013-03-24 21:45:00 2014-02-16 16:45:00\n",
            "2 2012-03-31 12:00:00 2013-03-31 21:45:00 2014-02-23 16:45:00\n",
            "3 2012-04-30 12:00:00 2013-04-07 21:45:00 2014-03-02 16:45:00\n",
            "4 2012-05-31 12:00:00 2013-04-14 21:45:00 2014-03-09 16:45:00\n",
            "5 2012-06-30 12:00:00 2013-04-21 21:45:00 2014-03-16 16:45:00\n",
            "6 2012-07-31 12:00:00 2013-04-28 21:45:00 2014-03-23 16:45:00\n"
          ],
          "name": "stdout"
        }
      ]
    },
    {
      "cell_type": "code",
      "metadata": {
        "id": "TwakVu6_g4w1",
        "colab_type": "code",
        "colab": {
          "base_uri": "https://localhost:8080/",
          "height": 187
        },
        "outputId": "c79c9e8e-ffe0-4d66-d831-649af3b921e8"
      },
      "source": [
        "df['diff_days'] = df['End_date'] - df['Start_date']\n",
        "df['diff1_days'] = df['End_date'] - df['Mid_date']\n",
        "df['diff2_days'] = df['Mid_date'] - df['Start_date']\n",
        "\n",
        "df['diff_days']=df['diff_days']/np.timedelta64(1,'D')\n",
        " \n",
        "print(df)"
      ],
      "execution_count": 51,
      "outputs": [
        {
          "output_type": "stream",
          "text": [
            "           Start_date            Mid_date  ...        diff1_days        diff2_days\n",
            "0 2012-01-31 12:00:00 2013-03-17 21:45:00  ... 328 days 19:00:00 411 days 09:45:00\n",
            "1 2012-02-29 12:00:00 2013-03-24 21:45:00  ... 328 days 19:00:00 389 days 09:45:00\n",
            "2 2012-03-31 12:00:00 2013-03-31 21:45:00  ... 328 days 19:00:00 365 days 09:45:00\n",
            "3 2012-04-30 12:00:00 2013-04-07 21:45:00  ... 328 days 19:00:00 342 days 09:45:00\n",
            "4 2012-05-31 12:00:00 2013-04-14 21:45:00  ... 328 days 19:00:00 318 days 09:45:00\n",
            "5 2012-06-30 12:00:00 2013-04-21 21:45:00  ... 328 days 19:00:00 295 days 09:45:00\n",
            "6 2012-07-31 12:00:00 2013-04-28 21:45:00  ... 328 days 19:00:00 271 days 09:45:00\n",
            "\n",
            "[7 rows x 6 columns]\n"
          ],
          "name": "stdout"
        }
      ]
    },
    {
      "cell_type": "markdown",
      "metadata": {
        "id": "f14GqhmG7upZ",
        "colab_type": "text"
      },
      "source": [
        ""
      ]
    }
  ]
}